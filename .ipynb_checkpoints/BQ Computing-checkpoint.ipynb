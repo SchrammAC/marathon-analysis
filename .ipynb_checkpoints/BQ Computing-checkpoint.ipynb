{
 "cells": [
  {
   "cell_type": "markdown",
   "metadata": {},
   "source": [
    "Questions:\n",
    "\n",
    "How do Strava users differ?\n",
    "\n",
    "-Average time, age, time in age\n",
    "\n",
    "How did the most recent shift in BQ times affect marathon times?\n",
    "-Percentage of each age group 0-5 minutes above, 0-5, 5-10, 10-15 minutes below.\n",
    "\n",
    "Is this similar to the prior BQ shift?\n",
    "\n",
    "Same for other courses?\n",
    "-CIM, Philadelphia, Erie Marathon(just prior to change), Berlin\n",
    "-Check percentage of international\n",
    "\n",
    "Control for weather"
   ]
  },
  {
   "cell_type": "code",
   "execution_count": 27,
   "metadata": {},
   "outputs": [],
   "source": [
    "import dill\n",
    "import pandas as pd\n",
    "import numpy as np\n",
    "import matplotlib\n",
    "import matplotlib.pyplot as plt\n",
    "import seaborn as sns\n",
    "sns.set()"
   ]
  },
  {
   "cell_type": "code",
   "execution_count": 11,
   "metadata": {},
   "outputs": [
    {
     "data": {
      "text/plain": [
       "RendererRegistry.enable('notebook')"
      ]
     },
     "execution_count": 11,
     "metadata": {},
     "output_type": "execute_result"
    }
   ],
   "source": [
    "import altair as alt\n",
    "alt.renderers.enable('notebook')"
   ]
  },
  {
   "cell_type": "code",
   "execution_count": 2,
   "metadata": {},
   "outputs": [],
   "source": [
    "def load_pkl(filename):\n",
    "    with open('data/'+filename, 'rb') as fobj:\n",
    "        return dill.load(fobj)"
   ]
  },
  {
   "cell_type": "code",
   "execution_count": 102,
   "metadata": {},
   "outputs": [],
   "source": [
    "df_2019 = load_pkl('2019_results')\n",
    "df_2016 = load_pkl('2016_results')\n",
    "df_2017 = load_pkl('2017_results')\n",
    "df_2018 = load_pkl('2018_results')\n",
    "df_strava = load_pkl('2019_results_strava')"
   ]
  },
  {
   "cell_type": "code",
   "execution_count": 198,
   "metadata": {},
   "outputs": [
    {
     "name": "stdout",
     "output_type": "stream",
     "text": [
      "0\n",
      "1\n"
     ]
    }
   ],
   "source": [
    "for a in range(0,2):\n",
    "    print(a)"
   ]
  },
  {
   "cell_type": "code",
   "execution_count": 199,
   "metadata": {},
   "outputs": [],
   "source": [
    "finishers_dict = {}\n",
    "for year in range(1996,2020):\n",
    "    yr_str = str(year)\n",
    "    finishers_dict[yr_str] = load_pkl(f'{yr_str}_results')"
   ]
  },
  {
   "cell_type": "code",
   "execution_count": 115,
   "metadata": {},
   "outputs": [
    {
     "data": {
      "text/plain": [
       "array(['30-34', '25-29', '20-24', '35-39', '40-44', '45-49', '16-19',\n",
       "       '50-54', '55-59', '60-64', '65-69', '70-74', '–', '75-79', '80+'],\n",
       "      dtype=object)"
      ]
     },
     "execution_count": 115,
     "metadata": {},
     "output_type": "execute_result"
    }
   ],
   "source": [
    "df.Division.unique()"
   ]
  },
  {
   "cell_type": "code",
   "execution_count": 132,
   "metadata": {},
   "outputs": [
    {
     "name": "stdout",
     "output_type": "stream",
     "text": [
      "[2, 3]\n"
     ]
    }
   ],
   "source": [
    "print(a)"
   ]
  },
  {
   "cell_type": "code",
   "execution_count": 195,
   "metadata": {},
   "outputs": [],
   "source": [
    "a, b = np.histogram(df.Time, bins = np.linspace(2,8,73))"
   ]
  },
  {
   "cell_type": "code",
   "execution_count": null,
   "metadata": {},
   "outputs": [],
   "source": []
  },
  {
   "cell_type": "code",
   "execution_count": 196,
   "metadata": {},
   "outputs": [
    {
     "data": {
      "text/plain": [
       "array([   0,    8,   20,   20,   35,   57,   67,  117,  205,  276,  423,\n",
       "        754,  550,  689,  815,  879, 1085, 1360, 1179, 1285, 1438, 1591,\n",
       "       1729, 1954, 1446, 1425, 1390, 1479, 1453, 1514, 1302, 1343, 1310,\n",
       "       1319, 1199, 1222,  982,  908,  845,  829,  836,  833,  681,  677,\n",
       "        657,  617,  567,  551,  477,  368,  418,  379,  331,  296,  236,\n",
       "        230,  169,  153,  117,   99,   94,   97,   73,   57,   40,   38,\n",
       "         35,   18,   27,   26,   16,   13], dtype=int64)"
      ]
     },
     "execution_count": 196,
     "metadata": {},
     "output_type": "execute_result"
    }
   ],
   "source": [
    "a"
   ]
  },
  {
   "cell_type": "code",
   "execution_count": null,
   "metadata": {},
   "outputs": [],
   "source": []
  },
  {
   "cell_type": "code",
   "execution_count": 120,
   "metadata": {},
   "outputs": [],
   "source": [
    "count_dict_m = {}\n",
    "count_dict_w = {}\n",
    "for div in df.Division.unique():\n",
    "    temp_df_m = df[df.Division == div & df.Gender == 'M']\n",
    "    temp_df_w = df[df.Division == div & df.Gender == 'W']\n",
    "    \n",
    "    counts, _ = np.histogram(temp_df_m.Time, bins = np.linspace(2,8,73))\n",
    "    count_dict_m[div] = counts\n",
    "    counts, _ = np.histogram(temp_df_w.Time, bins = np.linspace(2,8,73))\n",
    "    count_dict_w[div] = counts"
   ]
  },
  {
   "cell_type": "code",
   "execution_count": 125,
   "metadata": {},
   "outputs": [],
   "source": [
    "a=[2,3]\n"
   ]
  },
  {
   "cell_type": "code",
   "execution_count": 129,
   "metadata": {},
   "outputs": [],
   "source": [
    "bq_divs = ['16-19', '20-24', '25-29', '30-34', '35-39', '40-44', '45-49', '50-54', '55-59', '60-64', '65-69', '70-74', '75-79', '80+']"
   ]
  },
  {
   "cell_type": "code",
   "execution_count": 128,
   "metadata": {},
   "outputs": [],
   "source": [
    "bq_times_men = [3, 3, 3, 3, 37/12, 38/12, 40/12, 41/12, 43/12, 46/12, 49/12, 52/12, 55/12, 58/12]\n",
    "bq_times_women = [time+0.5 for time in bq_times_men]"
   ]
  },
  {
   "cell_type": "code",
   "execution_count": 169,
   "metadata": {},
   "outputs": [],
   "source": [
    "bq_df = pd.DataFrame()\n",
    "bq_df['Division'] = bq_divs\n",
    "bq_df['M'] = bq_times_men\n",
    "bq_df['W'] = bq_times_women"
   ]
  },
  {
   "cell_type": "code",
   "execution_count": 178,
   "metadata": {},
   "outputs": [
    {
     "data": {
      "text/plain": [
       "3.0"
      ]
     },
     "execution_count": 178,
     "metadata": {},
     "output_type": "execute_result"
    }
   ],
   "source": [
    "bq_df[bq_df['Division'] == '20-24']['M'].values[0]"
   ]
  },
  {
   "cell_type": "code",
   "execution_count": 202,
   "metadata": {},
   "outputs": [
    {
     "data": {
      "text/plain": [
       "852"
      ]
     },
     "execution_count": 202,
     "metadata": {},
     "output_type": "execute_result"
    }
   ],
   "source": [
    "df[(df['Gender']=='M') & (df['Division']=='20-24')]['Time'].count()"
   ]
  },
  {
   "cell_type": "code",
   "execution_count": null,
   "metadata": {},
   "outputs": [],
   "source": [
    "res_dict = "
   ]
  },
  {
   "cell_type": "code",
   "execution_count": 208,
   "metadata": {},
   "outputs": [],
   "source": [
    "a,_=np.histogram(df[df['Division']=='20-24']['Time'], bins = np.linspace(3-0.25, 3+0.25, 7))"
   ]
  },
  {
   "cell_type": "code",
   "execution_count": 209,
   "metadata": {},
   "outputs": [
    {
     "data": {
      "text/plain": [
       "array([ 9, 18, 28, 11, 25, 31], dtype=int64)"
      ]
     },
     "execution_count": 209,
     "metadata": {},
     "output_type": "execute_result"
    }
   ],
   "source": [
    "a\n"
   ]
  },
  {
   "cell_type": "code",
   "execution_count": 216,
   "metadata": {},
   "outputs": [],
   "source": [
    "year_list = []\n",
    "div_list = []\n",
    "gender_list = []\n",
    "tr_list = []\n",
    "number_list = []\n",
    "prop_list = []"
   ]
  },
  {
   "cell_type": "code",
   "execution_count": 214,
   "metadata": {},
   "outputs": [
    {
     "name": "stdout",
     "output_type": "stream",
     "text": [
      "0\n",
      "16-19\n",
      "1\n",
      "20-24\n",
      "2\n",
      "25-29\n",
      "3\n",
      "30-34\n",
      "4\n",
      "35-39\n",
      "5\n",
      "40-44\n",
      "6\n",
      "45-49\n",
      "7\n",
      "50-54\n",
      "8\n",
      "55-59\n",
      "9\n",
      "60-64\n",
      "10\n",
      "65-69\n",
      "11\n",
      "70-74\n",
      "12\n",
      "75-79\n",
      "13\n",
      "80+\n"
     ]
    }
   ],
   "source": [
    "for count, div in enumerate(bq_divs):\n",
    "    print(count)\n",
    "    print(div)"
   ]
  },
  {
   "cell_type": "code",
   "execution_count": 217,
   "metadata": {},
   "outputs": [
    {
     "name": "stderr",
     "output_type": "stream",
     "text": [
      "C:\\Users\\night\\Anaconda3\\envs\\TDINotebooks\\lib\\site-packages\\ipykernel_launcher.py:15: RuntimeWarning: invalid value encountered in longlong_scalars\n",
      "  from ipykernel import kernelapp as app\n",
      "C:\\Users\\night\\Anaconda3\\envs\\TDINotebooks\\lib\\site-packages\\ipykernel_launcher.py:15: RuntimeWarning: divide by zero encountered in longlong_scalars\n",
      "  from ipykernel import kernelapp as app\n"
     ]
    }
   ],
   "source": [
    "for year in range(1996,2020):\n",
    "    df = finishers_dict[str(year)]\n",
    "    for count, division in enumerate(bq_divs):\n",
    "        div_num = df[(df['Division']==division)]['Time'].count()\n",
    "#         total_bin_nums = np.histogram(df['Time'], bins = np.linspace(bq_time-0.25, bq_time+0.25, 7))\n",
    "        for sex in ['M', 'W']:\n",
    "            sex_num = df[(df['Gender']==sex) & (df['Division']==division)]['Time'].count()\n",
    "            bq_time = bq_df[bq_df['Division'] == division][sex].values[0]\n",
    "            bin_nums,_ = np.histogram(df[df['Division']==division]['Time'], bins = np.linspace(bq_time-0.25, bq_time+0.25, 7))\n",
    "            for val in bin_nums:\n",
    "                year_list.append(year)\n",
    "                div_list.append(division)\n",
    "                gender_list.append(sex)\n",
    "                number_list.append(val)\n",
    "                prop_list.append(val/sex_num)\n",
    "            tr_list.extend(['10-15_under', '5-10_under', '0-5_under', '0-5_over', '5-10_over', '10-15_over'])\n",
    "                            \n",
    "            "
   ]
  },
  {
   "cell_type": "code",
   "execution_count": 220,
   "metadata": {},
   "outputs": [
    {
     "data": {
      "text/plain": [
       "4032"
      ]
     },
     "execution_count": 220,
     "metadata": {},
     "output_type": "execute_result"
    }
   ],
   "source": [
    "len(year_list)"
   ]
  },
  {
   "cell_type": "code",
   "execution_count": 218,
   "metadata": {},
   "outputs": [
    {
     "data": {
      "text/plain": [
       "['10-15_under',\n",
       " '5-10_under',\n",
       " '0-5_under',\n",
       " '0-5_over',\n",
       " '5-10_over',\n",
       " '10-15_over',\n",
       " '10-15_under',\n",
       " '5-10_under',\n",
       " '0-5_under',\n",
       " '0-5_over']"
      ]
     },
     "execution_count": 218,
     "metadata": {},
     "output_type": "execute_result"
    }
   ],
   "source": [
    "tr_list[0:10]"
   ]
  },
  {
   "cell_type": "code",
   "execution_count": 154,
   "metadata": {},
   "outputs": [],
   "source": [
    "num_women = [df_2019[(df_2019.Gender == 'W') & (df_2019.Division == div)].Gender.count() for div in bq_divs]\n",
    "num_men = [df_2019[(df_2019.Gender == 'M') & (df_2019.Division == div)].Gender.count() for div in bq_divs]"
   ]
  },
  {
   "cell_type": "code",
   "execution_count": 155,
   "metadata": {},
   "outputs": [
    {
     "data": {
      "text/plain": [
       "[125, 1309, 3597, 3452, 3579, 3382, 2611, 1747, 938, 369, 126, 34, 5, 0]"
      ]
     },
     "execution_count": 155,
     "metadata": {},
     "output_type": "execute_result"
    }
   ],
   "source": [
    "num_women"
   ]
  },
  {
   "cell_type": "code",
   "execution_count": 146,
   "metadata": {},
   "outputs": [],
   "source": [
    "ind = 1\n",
    "div='20-24'"
   ]
  },
  {
   "cell_type": "code",
   "execution_count": 162,
   "metadata": {},
   "outputs": [
    {
     "name": "stderr",
     "output_type": "stream",
     "text": [
      "C:\\Users\\night\\Anaconda3\\envs\\TDINotebooks\\lib\\site-packages\\ipykernel_launcher.py:5: RuntimeWarning: invalid value encountered in long_scalars\n",
      "  \"\"\"\n"
     ]
    }
   ],
   "source": [
    "zero_under_women = [df_2019[(df_2019.Gender == 'W') & \n",
    "                     (df_2019.Time <= bq_times_women[ind]) & \n",
    "                     (df_2019.Time > (bq_times_women[ind]-5)) & \n",
    "                     (df_2019.Division == div)].Gender.count() / num_women[ind] \\\n",
    "              for ind, div in enumerate(bq_divs)]"
   ]
  },
  {
   "cell_type": "code",
   "execution_count": 163,
   "metadata": {},
   "outputs": [
    {
     "name": "stderr",
     "output_type": "stream",
     "text": [
      "C:\\Users\\night\\Anaconda3\\envs\\TDINotebooks\\lib\\site-packages\\ipykernel_launcher.py:5: RuntimeWarning: invalid value encountered in long_scalars\n",
      "  \"\"\"\n"
     ]
    }
   ],
   "source": [
    "five_under_women = [df_2019[(df_2019.Gender == 'W') & \n",
    "                     (df_2019.Time <= bq_times_women[ind]-5) & \n",
    "                     (df_2019.Time > (bq_times_women[ind]-10)) & \n",
    "                     (df_2019.Division == div)].Gender.count() / num_women[ind] \\\n",
    "              for ind, div in enumerate(bq_divs)]"
   ]
  },
  {
   "cell_type": "code",
   "execution_count": 164,
   "metadata": {},
   "outputs": [
    {
     "name": "stderr",
     "output_type": "stream",
     "text": [
      "C:\\Users\\night\\Anaconda3\\envs\\TDINotebooks\\lib\\site-packages\\ipykernel_launcher.py:5: RuntimeWarning: invalid value encountered in long_scalars\n",
      "  \"\"\"\n"
     ]
    }
   ],
   "source": [
    "ten_under_women = [df_2019[(df_2019.Gender == 'W') & \n",
    "                     (df_2019.Time <= bq_times_women[ind]-10) & \n",
    "                     (df_2019.Time > (bq_times_women[ind]-15)) & \n",
    "                     (df_2019.Division == div)].Gender.count() / num_women[ind] \\\n",
    "              for ind, div in enumerate(bq_divs)]"
   ]
  },
  {
   "cell_type": "code",
   "execution_count": 165,
   "metadata": {},
   "outputs": [],
   "source": [
    "zero_under_men = [df_2019[(df_2019.Gender == 'M') & \n",
    "                     (df_2019.Time <= bq_times_men[ind]-5) & \n",
    "                     (df_2019.Time > (bq_times_men[ind]-10)) & \n",
    "                     (df_2019.Division == div)].Gender.count() / num_men[ind] \\\n",
    "              for ind, div in enumerate(bq_divs)]\n",
    "five_under_men = [df_2019[(df_2019.Gender == 'M') & \n",
    "                     (df_2019.Time <= bq_times_men[ind]-5) & \n",
    "                     (df_2019.Time > (bq_times_men[ind]-10)) & \n",
    "                     (df_2019.Division == div)].Gender.count() / num_men[ind] \\\n",
    "              for ind, div in enumerate(bq_divs)]\n",
    "ten_under_men = [df_2019[(df_2019.Gender == 'M') & \n",
    "                     (df_2019.Time <= bq_times_men[ind]-10) & \n",
    "                     (df_2019.Time > (bq_times_men[ind]-15)) & \n",
    "                     (df_2019.Division == div)].Gender.count() / num_men[ind] \\\n",
    "              for ind, div in enumerate(bq_divs)]"
   ]
  },
  {
   "cell_type": "code",
   "execution_count": 181,
   "metadata": {},
   "outputs": [],
   "source": [
    "gender= 'M'"
   ]
  },
  {
   "cell_type": "code",
   "execution_count": 186,
   "metadata": {},
   "outputs": [],
   "source": [
    "bq_times = [bq_df[bq_df['Division'] == div][gender].values[0] for div in bq_divs]"
   ]
  },
  {
   "cell_type": "code",
   "execution_count": 190,
   "metadata": {},
   "outputs": [
    {
     "data": {
      "text/plain": [
       "3.1666666666666665"
      ]
     },
     "execution_count": 190,
     "metadata": {},
     "output_type": "execute_result"
    }
   ],
   "source": [
    "bq_times[5]"
   ]
  },
  {
   "cell_type": "code",
   "execution_count": null,
   "metadata": {},
   "outputs": [],
   "source": []
  },
  {
   "cell_type": "code",
   "execution_count": 191,
   "metadata": {},
   "outputs": [],
   "source": [
    "def finishers_in_window(df_year, gender, upper_lim, lower_lim, div, bq_time):\n",
    "    return [df_year[(df_year.Gender == gender) & \n",
    "                    (df_year.Time <= bq_time-lower_lim) & \n",
    "                    (df_year.Time > (bq_time-upper_lim)) & \n",
    "                    (df_year.Division == div)].Gender.count()]"
   ]
  },
  {
   "cell_type": "code",
   "execution_count": null,
   "metadata": {},
   "outputs": [],
   "source": [
    "def proportion_vals(df_year, bq_df):\n",
    "    for sex in ['M', 'W']:\n",
    "        for div in bq_df['Division']:\n",
    "            bq_time = bq_df[bq_df['Division']==div][sex]\n",
    "            finishers_in_window(df_year, sex, )\n",
    "            "
   ]
  },
  {
   "cell_type": "code",
   "execution_count": 157,
   "metadata": {},
   "outputs": [
    {
     "name": "stdout",
     "output_type": "stream",
     "text": [
      "0.09243697478991597\n"
     ]
    }
   ],
   "source": [
    "print(zero_under)"
   ]
  },
  {
   "cell_type": "code",
   "execution_count": 122,
   "metadata": {},
   "outputs": [
    {
     "data": {
      "text/plain": [
       "array([  0,   4,   5,   1,  12,  13,  22,  34,  51,  77,  96, 172, 108,\n",
       "       138, 129, 157, 174, 255, 198, 210, 209, 258, 263, 305, 204, 231,\n",
       "       213, 257, 192, 222, 207, 219, 203, 179, 166, 183, 146, 140, 110,\n",
       "       126, 112, 119,  99,  93,  79,  86,  64,  80,  65,  58,  53,  49,\n",
       "        46,  30,  30,  27,  27,  13,  21,  16,  14,  11,  12,   9,   5,\n",
       "         4,   5,   0,   7,   0,   2,   3], dtype=int64)"
      ]
     },
     "execution_count": 122,
     "metadata": {},
     "output_type": "execute_result"
    }
   ],
   "source": [
    "count_dict['30-34']"
   ]
  },
  {
   "cell_type": "code",
   "execution_count": 4,
   "metadata": {
    "scrolled": true
   },
   "outputs": [
    {
     "data": {
      "text/html": [
       "<div>\n",
       "<style scoped>\n",
       "    .dataframe tbody tr th:only-of-type {\n",
       "        vertical-align: middle;\n",
       "    }\n",
       "\n",
       "    .dataframe tbody tr th {\n",
       "        vertical-align: top;\n",
       "    }\n",
       "\n",
       "    .dataframe thead th {\n",
       "        text-align: right;\n",
       "    }\n",
       "</style>\n",
       "<table border=\"1\" class=\"dataframe\">\n",
       "  <thead>\n",
       "    <tr style=\"text-align: right;\">\n",
       "      <th></th>\n",
       "      <th>Place</th>\n",
       "      <th>GenderPlace</th>\n",
       "      <th>Name</th>\n",
       "      <th>Country</th>\n",
       "      <th>BibNumber</th>\n",
       "      <th>Division</th>\n",
       "      <th>HalfTime</th>\n",
       "      <th>Time</th>\n",
       "      <th>Gender</th>\n",
       "    </tr>\n",
       "  </thead>\n",
       "  <tbody>\n",
       "    <tr>\n",
       "      <th>0</th>\n",
       "      <td>1</td>\n",
       "      <td>1</td>\n",
       "      <td>Cherono, Lawrence</td>\n",
       "      <td>KEN</td>\n",
       "      <td>4</td>\n",
       "      <td>30-34</td>\n",
       "      <td>1.037500</td>\n",
       "      <td>2.095833</td>\n",
       "      <td>M</td>\n",
       "    </tr>\n",
       "    <tr>\n",
       "      <th>1</th>\n",
       "      <td>3</td>\n",
       "      <td>3</td>\n",
       "      <td>Mengstu, Asefa</td>\n",
       "      <td>ETH</td>\n",
       "      <td>5</td>\n",
       "      <td>30-34</td>\n",
       "      <td>1.037500</td>\n",
       "      <td>2.096667</td>\n",
       "      <td>M</td>\n",
       "    </tr>\n",
       "    <tr>\n",
       "      <th>2</th>\n",
       "      <td>5</td>\n",
       "      <td>5</td>\n",
       "      <td>Abdi, Bashir</td>\n",
       "      <td>BEL</td>\n",
       "      <td>10</td>\n",
       "      <td>30-34</td>\n",
       "      <td>1.048333</td>\n",
       "      <td>2.103889</td>\n",
       "      <td>M</td>\n",
       "    </tr>\n",
       "    <tr>\n",
       "      <th>3</th>\n",
       "      <td>7</td>\n",
       "      <td>7</td>\n",
       "      <td>Chumba, Dickson</td>\n",
       "      <td>KEN</td>\n",
       "      <td>6</td>\n",
       "      <td>30-34</td>\n",
       "      <td>1.037222</td>\n",
       "      <td>2.153056</td>\n",
       "      <td>M</td>\n",
       "    </tr>\n",
       "    <tr>\n",
       "      <th>4</th>\n",
       "      <td>9</td>\n",
       "      <td>9</td>\n",
       "      <td>Riley, Jacob</td>\n",
       "      <td>USA</td>\n",
       "      <td>16</td>\n",
       "      <td>30-34</td>\n",
       "      <td>1.090000</td>\n",
       "      <td>2.176667</td>\n",
       "      <td>M</td>\n",
       "    </tr>\n",
       "  </tbody>\n",
       "</table>\n",
       "</div>"
      ],
      "text/plain": [
       "   Place  GenderPlace               Name Country BibNumber Division  HalfTime  \\\n",
       "0      1            1  Cherono, Lawrence     KEN         4    30-34  1.037500   \n",
       "1      3            3     Mengstu, Asefa     ETH         5    30-34  1.037500   \n",
       "2      5            5       Abdi, Bashir     BEL        10    30-34  1.048333   \n",
       "3      7            7    Chumba, Dickson     KEN         6    30-34  1.037222   \n",
       "4      9            9       Riley, Jacob     USA        16    30-34  1.090000   \n",
       "\n",
       "       Time Gender  \n",
       "0  2.095833      M  \n",
       "1  2.096667      M  \n",
       "2  2.103889      M  \n",
       "3  2.153056      M  \n",
       "4  2.176667      M  "
      ]
     },
     "execution_count": 4,
     "metadata": {},
     "output_type": "execute_result"
    }
   ],
   "source": [
    "df.head()"
   ]
  },
  {
   "cell_type": "code",
   "execution_count": 134,
   "metadata": {},
   "outputs": [],
   "source": [
    "df_strava['Time'] = df_strava['Finish (mins)'] / 60"
   ]
  },
  {
   "cell_type": "code",
   "execution_count": 22,
   "metadata": {
    "scrolled": true
   },
   "outputs": [
    {
     "data": {
      "text/html": [
       "<div>\n",
       "<style scoped>\n",
       "    .dataframe tbody tr th:only-of-type {\n",
       "        vertical-align: middle;\n",
       "    }\n",
       "\n",
       "    .dataframe tbody tr th {\n",
       "        vertical-align: top;\n",
       "    }\n",
       "\n",
       "    .dataframe thead th {\n",
       "        text-align: right;\n",
       "    }\n",
       "</style>\n",
       "<table border=\"1\" class=\"dataframe\">\n",
       "  <thead>\n",
       "    <tr style=\"text-align: right;\">\n",
       "      <th></th>\n",
       "      <th>Rank</th>\n",
       "      <th>Gender</th>\n",
       "      <th>Age</th>\n",
       "      <th>Finish</th>\n",
       "      <th>Pace</th>\n",
       "      <th>Finish (mins)</th>\n",
       "      <th>Time</th>\n",
       "    </tr>\n",
       "  </thead>\n",
       "  <tbody>\n",
       "    <tr>\n",
       "      <th>0</th>\n",
       "      <td>0</td>\n",
       "      <td>M</td>\n",
       "      <td>45-54</td>\n",
       "      <td>02:04:20</td>\n",
       "      <td>2:57/km</td>\n",
       "      <td>124.333333</td>\n",
       "      <td>2.072222</td>\n",
       "    </tr>\n",
       "    <tr>\n",
       "      <th>1</th>\n",
       "      <td>1</td>\n",
       "      <td>M</td>\n",
       "      <td>25-34</td>\n",
       "      <td>02:11:11</td>\n",
       "      <td>3:07/km</td>\n",
       "      <td>131.183333</td>\n",
       "      <td>2.186389</td>\n",
       "    </tr>\n",
       "    <tr>\n",
       "      <th>2</th>\n",
       "      <td>2</td>\n",
       "      <td>M</td>\n",
       "      <td>NaN</td>\n",
       "      <td>02:11:39</td>\n",
       "      <td>3:07/km</td>\n",
       "      <td>131.650000</td>\n",
       "      <td>2.194167</td>\n",
       "    </tr>\n",
       "    <tr>\n",
       "      <th>3</th>\n",
       "      <td>3</td>\n",
       "      <td>M</td>\n",
       "      <td>25-34</td>\n",
       "      <td>02:14:56</td>\n",
       "      <td>3:12/km</td>\n",
       "      <td>134.933333</td>\n",
       "      <td>2.248889</td>\n",
       "    </tr>\n",
       "    <tr>\n",
       "      <th>4</th>\n",
       "      <td>4</td>\n",
       "      <td>M</td>\n",
       "      <td>25-34</td>\n",
       "      <td>02:15:00</td>\n",
       "      <td>3:12/km</td>\n",
       "      <td>135.000000</td>\n",
       "      <td>2.250000</td>\n",
       "    </tr>\n",
       "  </tbody>\n",
       "</table>\n",
       "</div>"
      ],
      "text/plain": [
       "   Rank Gender    Age    Finish     Pace  Finish (mins)      Time\n",
       "0     0      M  45-54  02:04:20  2:57/km     124.333333  2.072222\n",
       "1     1      M  25-34  02:11:11  3:07/km     131.183333  2.186389\n",
       "2     2      M    NaN  02:11:39  3:07/km     131.650000  2.194167\n",
       "3     3      M  25-34  02:14:56  3:12/km     134.933333  2.248889\n",
       "4     4      M  25-34  02:15:00  3:12/km     135.000000  2.250000"
      ]
     },
     "execution_count": 22,
     "metadata": {},
     "output_type": "execute_result"
    }
   ],
   "source": [
    "df_strava.head()"
   ]
  },
  {
   "cell_type": "code",
   "execution_count": 56,
   "metadata": {},
   "outputs": [],
   "source": [
    "df_plot = df[df['Division']!='–']"
   ]
  },
  {
   "cell_type": "code",
   "execution_count": 57,
   "metadata": {},
   "outputs": [],
   "source": [
    "divlist = df_plot['Division'].unique()"
   ]
  },
  {
   "cell_type": "code",
   "execution_count": 58,
   "metadata": {},
   "outputs": [
    {
     "data": {
      "text/plain": [
       "array(['30-34', '25-29', '20-24', '35-39', '40-44', '45-49', '16-19',\n",
       "       '50-54', '55-59', '60-64', '65-69', '70-74', '75-79', '80+'],\n",
       "      dtype=object)"
      ]
     },
     "execution_count": 58,
     "metadata": {},
     "output_type": "execute_result"
    }
   ],
   "source": [
    "divlist"
   ]
  },
  {
   "cell_type": "code",
   "execution_count": 68,
   "metadata": {},
   "outputs": [
    {
     "data": {
      "text/plain": [
       "(array([  0,   0,   0,   0,   0,   0,   0,   0,   0,   0,   0,   0,   0,\n",
       "          0,   0,   0,   0,   0,   0,   0,   0,   0,   0,   0,   0,   4,\n",
       "          5,   1,  12,  13,  22,  34,  51,  77,  96, 172, 108, 138, 129,\n",
       "        157, 174, 255, 198, 210, 209, 258, 263, 305, 204, 231, 213, 257,\n",
       "        192, 222, 207, 219, 203, 179, 166, 183, 146, 140, 110, 126, 112,\n",
       "        119,  99,  93,  79,  86,  64,  80,  65,  58,  53,  49,  46,  30,\n",
       "         30,  27,  27,  13,  21,  16,  14,  11,  12,   9,   5,   4,   5,\n",
       "          0,   7,   0,   2,   3], dtype=int64),\n",
       " array([0.        , 0.08333333, 0.16666667, 0.25      , 0.33333333,\n",
       "        0.41666667, 0.5       , 0.58333333, 0.66666667, 0.75      ,\n",
       "        0.83333333, 0.91666667, 1.        , 1.08333333, 1.16666667,\n",
       "        1.25      , 1.33333333, 1.41666667, 1.5       , 1.58333333,\n",
       "        1.66666667, 1.75      , 1.83333333, 1.91666667, 2.        ,\n",
       "        2.08333333, 2.16666667, 2.25      , 2.33333333, 2.41666667,\n",
       "        2.5       , 2.58333333, 2.66666667, 2.75      , 2.83333333,\n",
       "        2.91666667, 3.        , 3.08333333, 3.16666667, 3.25      ,\n",
       "        3.33333333, 3.41666667, 3.5       , 3.58333333, 3.66666667,\n",
       "        3.75      , 3.83333333, 3.91666667, 4.        , 4.08333333,\n",
       "        4.16666667, 4.25      , 4.33333333, 4.41666667, 4.5       ,\n",
       "        4.58333333, 4.66666667, 4.75      , 4.83333333, 4.91666667,\n",
       "        5.        , 5.08333333, 5.16666667, 5.25      , 5.33333333,\n",
       "        5.41666667, 5.5       , 5.58333333, 5.66666667, 5.75      ,\n",
       "        5.83333333, 5.91666667, 6.        , 6.08333333, 6.16666667,\n",
       "        6.25      , 6.33333333, 6.41666667, 6.5       , 6.58333333,\n",
       "        6.66666667, 6.75      , 6.83333333, 6.91666667, 7.        ,\n",
       "        7.08333333, 7.16666667, 7.25      , 7.33333333, 7.41666667,\n",
       "        7.5       , 7.58333333, 7.66666667, 7.75      , 7.83333333,\n",
       "        7.91666667, 8.        ]))"
      ]
     },
     "execution_count": 68,
     "metadata": {},
     "output_type": "execute_result"
    }
   ],
   "source": [
    "np.histogram(df[df['Division']=='30-34']['Time'], bins = np.linspace(0,8,97))"
   ]
  },
  {
   "cell_type": "code",
   "execution_count": 62,
   "metadata": {
    "scrolled": true
   },
   "outputs": [
    {
     "data": {
      "image/png": "[encoded data removed]",
      "text/plain": [
       "<Figure size 432x288 with 1 Axes>"
      ]
     },
     "metadata": {},
     "output_type": "display_data"
    }
   ],
   "source": [
    "for div in divlist:\n",
    "    plt.hist(df[df['Division']==div]['Time'], bins = np.linspace(0,8,97), alpha = 0.3, density = True)\n",
    "plt.show()\n",
    "\n",
    "    "
   ]
  },
  {
   "cell_type": "code",
   "execution_count": 66,
   "metadata": {
    "scrolled": true
   },
   "outputs": [
    {
     "data": {
      "image/png": "[encoded data removed]",
      "text/plain": [
       "<Figure size 432x288 with 1 Axes>"
      ]
     },
     "metadata": {},
     "output_type": "display_data"
    }
   ],
   "source": [
    "plt.hist(df[(df['Division']=='20-24') | (df['Division']=='25-29') | (df['Division']=='30-34') & (df['Gender']=='M')]['Time'], bins = np.linspace(0,8,97), alpha = 0.3, density = True)\n",
    "plt.hist(df[(df['Division']=='35-39') & (df['Gender']=='M')]['Time'], bins = np.linspace(0,8,97), alpha = 0.3, density = True)\n",
    "\n",
    "plt.show()\n",
    "\n",
    "    "
   ]
  },
  {
   "cell_type": "code",
   "execution_count": 95,
   "metadata": {},
   "outputs": [
    {
     "data": {
      "image/png": "[encoded data removed]",
      "text/plain": [
       "<Figure size 432x288 with 1 Axes>"
      ]
     },
     "metadata": {},
     "output_type": "display_data"
    }
   ],
   "source": [
    "plt.hist(df[(df['Division']=='20-24') | (df['Division']=='25-29') | (df['Division']=='30-34') & (df['Gender']=='M')]['Time'], bins = np.linspace(0,8,97), alpha = 0.3, density = True)\n",
    "\n",
    "plt.hist(df_2016[(df_2016['Division']=='20-24') | (df_2016['Division']=='25-29') | (df_2016['Division']=='30-34') & (df_2016['Gender']=='M')]['Time'], bins = np.linspace(0,8,97), alpha = 0.3, density = True)\n",
    "\n",
    "plt.show()\n",
    "\n",
    "    "
   ]
  },
  {
   "cell_type": "code",
   "execution_count": 98,
   "metadata": {
    "scrolled": true
   },
   "outputs": [
    {
     "data": {
      "image/png": "[encoded data removed]",
      "text/plain": [
       "<Figure size 432x288 with 1 Axes>"
      ]
     },
     "metadata": {},
     "output_type": "display_data"
    }
   ],
   "source": [
    "plt.hist(df[(df['Division']=='20-24') | (df['Division']=='25-29') | (df['Division']=='30-34') & (df['Gender']=='M')]['Time'], bins = np.linspace(2.5,3.5,61), alpha = 0.3, density = True)\n",
    "plt.hist(df_2018[(df_2018['Division']=='20-24') | (df_2018['Division']=='25-29') | (df_2018['Division']=='30-34') & (df_2018['Gender']=='M')]['Time'], bins = np.linspace(2.5,3.5,61), alpha = 0.3, density = True)\n",
    "plt.hist(df_2017[(df_2017['Division']=='20-24') | (df_2017['Division']=='25-29') | (df_2017['Division']=='30-34') & (df_2017['Gender']=='M')]['Time'], bins = np.linspace(2.5,3.5,61), alpha = 0.3, density = True)\n",
    "\n",
    "plt.show()\n",
    "\n",
    "    "
   ]
  },
  {
   "cell_type": "code",
   "execution_count": 101,
   "metadata": {},
   "outputs": [
    {
     "data": {
      "image/png": "[encoded data removed]",
      "text/plain": [
       "<Figure size 432x288 with 1 Axes>"
      ]
     },
     "metadata": {},
     "output_type": "display_data"
    }
   ],
   "source": [
    "sns.distplot(df[(df['Division']=='20-24') | (df['Division']=='25-29') | (df['Division']=='30-34') & (df['Gender']=='M')]['Time'], bins = np.linspace(2,4.5,61))\n",
    "sns.distplot(df_2018[(df_2018['Division']=='20-24') | (df_2018['Division']=='25-29') | (df_2018['Division']=='30-34') & (df_2018['Gender']=='M')]['Time'], bins = np.linspace(2,4.5,61))\n",
    "sns.distplot(df_2016[(df_2016['Division']=='20-24') | (df_2016['Division']=='25-29') | (df_2016['Division']=='30-34') & (df_2016['Gender']=='M')]['Time'], bins = np.linspace(2,4.5,61))\n",
    "\n",
    "plt.show()"
   ]
  },
  {
   "cell_type": "code",
   "execution_count": 38,
   "metadata": {},
   "outputs": [
    {
     "data": {
      "text/html": [
       "<div>\n",
       "<style scoped>\n",
       "    .dataframe tbody tr th:only-of-type {\n",
       "        vertical-align: middle;\n",
       "    }\n",
       "\n",
       "    .dataframe tbody tr th {\n",
       "        vertical-align: top;\n",
       "    }\n",
       "\n",
       "    .dataframe thead th {\n",
       "        text-align: right;\n",
       "    }\n",
       "</style>\n",
       "<table border=\"1\" class=\"dataframe\">\n",
       "  <thead>\n",
       "    <tr style=\"text-align: right;\">\n",
       "      <th></th>\n",
       "      <th>Place</th>\n",
       "      <th>GenderPlace</th>\n",
       "      <th>Name</th>\n",
       "      <th>Country</th>\n",
       "      <th>BibNumber</th>\n",
       "      <th>Division</th>\n",
       "      <th>HalfTime</th>\n",
       "      <th>Time</th>\n",
       "      <th>Gender</th>\n",
       "    </tr>\n",
       "  </thead>\n",
       "  <tbody>\n",
       "    <tr>\n",
       "      <th>0</th>\n",
       "      <td>1</td>\n",
       "      <td>1</td>\n",
       "      <td>Cherono, Lawrence</td>\n",
       "      <td>KEN</td>\n",
       "      <td>4</td>\n",
       "      <td>30-34</td>\n",
       "      <td>1.037500</td>\n",
       "      <td>2.095833</td>\n",
       "      <td>M</td>\n",
       "    </tr>\n",
       "    <tr>\n",
       "      <th>1</th>\n",
       "      <td>3</td>\n",
       "      <td>3</td>\n",
       "      <td>Mengstu, Asefa</td>\n",
       "      <td>ETH</td>\n",
       "      <td>5</td>\n",
       "      <td>30-34</td>\n",
       "      <td>1.037500</td>\n",
       "      <td>2.096667</td>\n",
       "      <td>M</td>\n",
       "    </tr>\n",
       "    <tr>\n",
       "      <th>2</th>\n",
       "      <td>5</td>\n",
       "      <td>5</td>\n",
       "      <td>Abdi, Bashir</td>\n",
       "      <td>BEL</td>\n",
       "      <td>10</td>\n",
       "      <td>30-34</td>\n",
       "      <td>1.048333</td>\n",
       "      <td>2.103889</td>\n",
       "      <td>M</td>\n",
       "    </tr>\n",
       "    <tr>\n",
       "      <th>3</th>\n",
       "      <td>7</td>\n",
       "      <td>7</td>\n",
       "      <td>Chumba, Dickson</td>\n",
       "      <td>KEN</td>\n",
       "      <td>6</td>\n",
       "      <td>30-34</td>\n",
       "      <td>1.037222</td>\n",
       "      <td>2.153056</td>\n",
       "      <td>M</td>\n",
       "    </tr>\n",
       "    <tr>\n",
       "      <th>4</th>\n",
       "      <td>9</td>\n",
       "      <td>9</td>\n",
       "      <td>Riley, Jacob</td>\n",
       "      <td>USA</td>\n",
       "      <td>16</td>\n",
       "      <td>30-34</td>\n",
       "      <td>1.090000</td>\n",
       "      <td>2.176667</td>\n",
       "      <td>M</td>\n",
       "    </tr>\n",
       "  </tbody>\n",
       "</table>\n",
       "</div>"
      ],
      "text/plain": [
       "   Place  GenderPlace               Name Country BibNumber Division  HalfTime  \\\n",
       "0      1            1  Cherono, Lawrence     KEN         4    30-34  1.037500   \n",
       "1      3            3     Mengstu, Asefa     ETH         5    30-34  1.037500   \n",
       "2      5            5       Abdi, Bashir     BEL        10    30-34  1.048333   \n",
       "3      7            7    Chumba, Dickson     KEN         6    30-34  1.037222   \n",
       "4      9            9       Riley, Jacob     USA        16    30-34  1.090000   \n",
       "\n",
       "       Time Gender  \n",
       "0  2.095833      M  \n",
       "1  2.096667      M  \n",
       "2  2.103889      M  \n",
       "3  2.153056      M  \n",
       "4  2.176667      M  "
      ]
     },
     "execution_count": 38,
     "metadata": {},
     "output_type": "execute_result"
    }
   ],
   "source": [
    "df[df['Division']=='30-34'].head()"
   ]
  },
  {
   "cell_type": "code",
   "execution_count": 135,
   "metadata": {
    "scrolled": true
   },
   "outputs": [
    {
     "data": {
      "image/png": "[encoded data removed]",
      "text/plain": [
       "<Figure size 432x288 with 1 Axes>"
      ]
     },
     "metadata": {},
     "output_type": "display_data"
    }
   ],
   "source": [
    "plt.hist(df['Time'], bins = np.linspace(0,8,97))\n",
    "plt.hist(df_strava['Time'], bins = np.linspace(0,8,97))\n",
    "plt.show()"
   ]
  },
  {
   "cell_type": "code",
   "execution_count": 84,
   "metadata": {},
   "outputs": [
    {
     "data": {
      "text/html": [
       "<div>\n",
       "<style scoped>\n",
       "    .dataframe tbody tr th:only-of-type {\n",
       "        vertical-align: middle;\n",
       "    }\n",
       "\n",
       "    .dataframe tbody tr th {\n",
       "        vertical-align: top;\n",
       "    }\n",
       "\n",
       "    .dataframe thead th {\n",
       "        text-align: right;\n",
       "    }\n",
       "</style>\n",
       "<table border=\"1\" class=\"dataframe\">\n",
       "  <thead>\n",
       "    <tr style=\"text-align: right;\">\n",
       "      <th></th>\n",
       "      <th>Rank</th>\n",
       "      <th>Gender</th>\n",
       "      <th>Age</th>\n",
       "      <th>Finish</th>\n",
       "      <th>Pace</th>\n",
       "      <th>Finish (mins)</th>\n",
       "    </tr>\n",
       "  </thead>\n",
       "  <tbody>\n",
       "    <tr>\n",
       "      <th>0</th>\n",
       "      <td>0</td>\n",
       "      <td>M</td>\n",
       "      <td>45-54</td>\n",
       "      <td>02:04:20</td>\n",
       "      <td>2:57/km</td>\n",
       "      <td>124.333333</td>\n",
       "    </tr>\n",
       "    <tr>\n",
       "      <th>1</th>\n",
       "      <td>1</td>\n",
       "      <td>M</td>\n",
       "      <td>25-34</td>\n",
       "      <td>02:11:11</td>\n",
       "      <td>3:07/km</td>\n",
       "      <td>131.183333</td>\n",
       "    </tr>\n",
       "    <tr>\n",
       "      <th>2</th>\n",
       "      <td>2</td>\n",
       "      <td>M</td>\n",
       "      <td>NaN</td>\n",
       "      <td>02:11:39</td>\n",
       "      <td>3:07/km</td>\n",
       "      <td>131.650000</td>\n",
       "    </tr>\n",
       "    <tr>\n",
       "      <th>3</th>\n",
       "      <td>3</td>\n",
       "      <td>M</td>\n",
       "      <td>25-34</td>\n",
       "      <td>02:14:56</td>\n",
       "      <td>3:12/km</td>\n",
       "      <td>134.933333</td>\n",
       "    </tr>\n",
       "    <tr>\n",
       "      <th>4</th>\n",
       "      <td>4</td>\n",
       "      <td>M</td>\n",
       "      <td>25-34</td>\n",
       "      <td>02:15:00</td>\n",
       "      <td>3:12/km</td>\n",
       "      <td>135.000000</td>\n",
       "    </tr>\n",
       "  </tbody>\n",
       "</table>\n",
       "</div>"
      ],
      "text/plain": [
       "   Rank Gender    Age    Finish     Pace  Finish (mins)\n",
       "0     0      M  45-54  02:04:20  2:57/km     124.333333\n",
       "1     1      M  25-34  02:11:11  3:07/km     131.183333\n",
       "2     2      M    NaN  02:11:39  3:07/km     131.650000\n",
       "3     3      M  25-34  02:14:56  3:12/km     134.933333\n",
       "4     4      M  25-34  02:15:00  3:12/km     135.000000"
      ]
     },
     "execution_count": 84,
     "metadata": {},
     "output_type": "execute_result"
    }
   ],
   "source": [
    "df_strava.head()"
   ]
  },
  {
   "cell_type": "code",
   "execution_count": 90,
   "metadata": {},
   "outputs": [],
   "source": [
    "sns.distplot?"
   ]
  },
  {
   "cell_type": "code",
   "execution_count": 137,
   "metadata": {},
   "outputs": [
    {
     "data": {
      "image/png": "[encoded data removed]",
      "text/plain": [
       "<Figure size 432x288 with 1 Axes>"
      ]
     },
     "metadata": {},
     "output_type": "display_data"
    }
   ],
   "source": [
    "plt.hist(df['Time'], bins = np.linspace(0,8,97), density=True)\n",
    "plt.hist(df_strava['Time'], bins = np.linspace(0,8,97), density=True, alpha=0.5)\n",
    "# sns.distplot(df['Time'], bins = np.linspace(0,8,97))\n",
    "# sns.distplot(df_strava['Time'], bins = np.linspace(0,8,97))\n",
    "plt.show()"
   ]
  },
  {
   "cell_type": "code",
   "execution_count": null,
   "metadata": {},
   "outputs": [],
   "source": []
  }
 ],
 "metadata": {
  "kernelspec": {
   "display_name": "Python 3",
   "language": "python",
   "name": "python3"
  },
  "language_info": {
   "codemirror_mode": {
    "name": "ipython",
    "version": 3
   },
   "file_extension": ".py",
   "mimetype": "text/x-python",
   "name": "python",
   "nbconvert_exporter": "python",
   "pygments_lexer": "ipython3",
   "version": "3.7.3"
  }
 },
 "nbformat": 4,
 "nbformat_minor": 2
}
